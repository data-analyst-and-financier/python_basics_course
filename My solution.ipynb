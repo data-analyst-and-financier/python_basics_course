{
 "cells": [
  {
   "cell_type": "markdown",
   "id": "b6cdbce1",
   "metadata": {},
   "source": [
    "# Решение отдельных задач из курса «Основы Python»"
   ]
  },
  {
   "cell_type": "markdown",
   "id": "e409fce1",
   "metadata": {
    "toc": true
   },
   "source": [
    "<h1>Содержание<span class=\"tocSkip\"></span></h1>\n",
    "<div class=\"toc\"><ul class=\"toc-item\"><li><span><a href=\"#Задача-1-−-«Результат-логических-операций»\" data-toc-modified-id=\"Задача-1-−-«Результат-логических-операций»-1\"><span class=\"toc-item-num\">1&nbsp;&nbsp;</span>Задача 1 − «Результат логических операций»</a></span></li><li><span><a href=\"#Задача-2-−-«Условные-конструкции»\" data-toc-modified-id=\"Задача-2-−-«Условные-конструкции»-2\"><span class=\"toc-item-num\">2&nbsp;&nbsp;</span>Задача 2 − «Условные конструкции»</a></span></li><li><span><a href=\"#Задача-3-−-«Цикл-while»\" data-toc-modified-id=\"Задача-3-−-«Цикл-while»-3\"><span class=\"toc-item-num\">3&nbsp;&nbsp;</span>Задача 3 − «Цикл <em>while</em>»</a></span></li><li><span><a href=\"#Задача-4-−-«Агрегация-данных»\" data-toc-modified-id=\"Задача-4-−-«Агрегация-данных»-4\"><span class=\"toc-item-num\">4&nbsp;&nbsp;</span>Задача 4 − «Агрегация данных»</a></span></li><li><span><a href=\"#Задача-5-−-«Обход-строк»\" data-toc-modified-id=\"Задача-5-−-«Обход-строк»-5\"><span class=\"toc-item-num\">5&nbsp;&nbsp;</span>Задача 5 − «Обход строк»</a></span></li><li><span><a href=\"#Задача-6-−-«Условия-внутри-тела-цикла»\" data-toc-modified-id=\"Задача-6-−-«Условия-внутри-тела-цикла»-6\"><span class=\"toc-item-num\">6&nbsp;&nbsp;</span>Задача 6 − «Условия внутри тела цикла»</a></span></li><li><span><a href=\"#Задача-7-−-«Цикл-for»\" data-toc-modified-id=\"Задача-7-−-«Цикл-for»-7\"><span class=\"toc-item-num\">7&nbsp;&nbsp;</span>Задача 7 − «Цикл <em>for</em>»</a></span></li><li><span><a href=\"#Задача-8-−-«Отладка»\" data-toc-modified-id=\"Задача-8-−-«Отладка»-8\"><span class=\"toc-item-num\">8&nbsp;&nbsp;</span>Задача 8 − «Отладка»</a></span></li><li><span><a href=\"#Задача-9-−-«Модули»\" data-toc-modified-id=\"Задача-9-−-«Модули»-9\"><span class=\"toc-item-num\">9&nbsp;&nbsp;</span>Задача 9 − «Модули»</a></span></li><li><span><a href=\"#Задача-10-−-«Модули-поглубже»\" data-toc-modified-id=\"Задача-10-−-«Модули-поглубже»-10\"><span class=\"toc-item-num\">10&nbsp;&nbsp;</span>Задача 10 − «Модули поглубже»</a></span></li><li><span><a href=\"#Задача-11-−-«Пакеты»\" data-toc-modified-id=\"Задача-11-−-«Пакеты»-11\"><span class=\"toc-item-num\">11&nbsp;&nbsp;</span>Задача 11 − «Пакеты»</a></span></li><li><span><a href=\"#Задача-12-−-«Модуль-random»\" data-toc-modified-id=\"Задача-12-−-«Модуль-random»-12\"><span class=\"toc-item-num\">12&nbsp;&nbsp;</span>Задача 12 − «Модуль <em>random</em>»</a></span></li><li><span><a href=\"#Задача-13-−-«Кортежи»\" data-toc-modified-id=\"Задача-13-−-«Кортежи»-13\"><span class=\"toc-item-num\">13&nbsp;&nbsp;</span>Задача 13 − «Кортежи»</a></span></li></ul></div>"
   ]
  },
  {
   "cell_type": "markdown",
   "id": "bc78c92d",
   "metadata": {},
   "source": [
    "### Задача 1 − «Результат логических операций»"
   ]
  },
  {
   "cell_type": "markdown",
   "id": "dbeaa2f0",
   "metadata": {},
   "source": [
    "Реализуйте функцию *string_or_not()*, которая проверяет является ли переданный параметр строкой. Если да, то возвращается строка *yes*, иначе *no*.\n",
    "\n",
    "*Эта задача доступна по [ссылке](https://ru.hexlet.io/courses/python-basics/lessons/logical-expressions/exercise_unit) после регистрации на сайте.*"
   ]
  },
  {
   "cell_type": "code",
   "execution_count": 1,
   "id": "2951af50",
   "metadata": {},
   "outputs": [],
   "source": [
    "def string_or_not(parameter):\n",
    "    if type(parameter) == str:\n",
    "        print('yes')\n",
    "    else:\n",
    "        print('no')"
   ]
  },
  {
   "cell_type": "code",
   "execution_count": 2,
   "id": "874e5a3f",
   "metadata": {},
   "outputs": [
    {
     "name": "stdout",
     "output_type": "stream",
     "text": [
      "yes\n"
     ]
    }
   ],
   "source": [
    "string_or_not('window functions')"
   ]
  },
  {
   "cell_type": "markdown",
   "id": "f9867fa2",
   "metadata": {},
   "source": [
    "### Задача 2 − «Условные конструкции»"
   ]
  },
  {
   "cell_type": "markdown",
   "id": "e0eeeeb3",
   "metadata": {},
   "source": [
    "Реализуйте функцию *normalize_url()*, которая выполняет так называемую нормализацию данных. Она принимает адрес сайта и возвращает его с *https://* в начале.\n",
    "\n",
    "Функция принимает адреса в виде:\n",
    "* АДРЕС\n",
    "* http://АДРЕС\n",
    "* https://АДРЕС (нормализованный).\n",
    "\n",
    "Функция всегда возвращает адрес в виде *https://АДРЕС*.\n",
    "\n",
    "*Эта задача доступна по [ссылке](https://ru.hexlet.io/courses/python-basics/lessons/conditionals/exercise_unit) после регистрации на сайте.*"
   ]
  },
  {
   "cell_type": "code",
   "execution_count": 3,
   "id": "a31c49ad",
   "metadata": {},
   "outputs": [],
   "source": [
    "def normalize_url(site):\n",
    "    if site[0:7] != 'http://' and site[0:8] != 'https://':\n",
    "        return 'https://' + site \n",
    "    elif site[0:7] == 'http://':\n",
    "        return site[0:4] + 's://' + site[7:]\n",
    "    else:\n",
    "        return site"
   ]
  },
  {
   "cell_type": "code",
   "execution_count": 4,
   "id": "4e79fdc0",
   "metadata": {},
   "outputs": [
    {
     "data": {
      "text/plain": [
       "'https://gopractice.ru'"
      ]
     },
     "execution_count": 4,
     "metadata": {},
     "output_type": "execute_result"
    }
   ],
   "source": [
    "normalize_url('gopractice.ru')"
   ]
  },
  {
   "cell_type": "markdown",
   "id": "0fb5803a",
   "metadata": {},
   "source": [
    "### Задача 3 − «Цикл *while*»"
   ]
  },
  {
   "cell_type": "markdown",
   "id": "be3b6831",
   "metadata": {},
   "source": [
    "Реализуйте *print_numbers()* так, чтобы она выводила положительные числа в обратном порядке. По окончании работы функция должна вывести на экран строку *finished!*.\n",
    "\n",
    "*Эта задача доступна по [ссылке](https://ru.hexlet.io/courses/python-basics/lessons/while/exercise_unit) после регистрации на сайте.*"
   ]
  },
  {
   "cell_type": "code",
   "execution_count": 5,
   "id": "cac214eb",
   "metadata": {},
   "outputs": [],
   "source": [
    "def print_numbers(value):\n",
    "    number = value \n",
    "    while number <= value and number > 0:\n",
    "        print(number)\n",
    "        number -= 1\n",
    "    print('finished!')"
   ]
  },
  {
   "cell_type": "code",
   "execution_count": 6,
   "id": "41903ebd",
   "metadata": {},
   "outputs": [
    {
     "name": "stdout",
     "output_type": "stream",
     "text": [
      "8\n",
      "7\n",
      "6\n",
      "5\n",
      "4\n",
      "3\n",
      "2\n",
      "1\n",
      "finished!\n"
     ]
    }
   ],
   "source": [
    "print_numbers(8)"
   ]
  },
  {
   "cell_type": "markdown",
   "id": "297077a2",
   "metadata": {},
   "source": [
    "### Задача 4 − «Агрегация данных»"
   ]
  },
  {
   "cell_type": "markdown",
   "id": "043009ba",
   "metadata": {},
   "source": [
    "Реализуйте функцию *join_numbers_from_range()*, которая объединяет все числа из диапазона в строку и возвращает получившуюся строку.\n",
    "\n",
    "*Эта задача доступна по [ссылке](https://ru.hexlet.io/courses/python-basics/lessons/aggregation/exercise_unit) после регистрации на сайте.*"
   ]
  },
  {
   "cell_type": "code",
   "execution_count": 7,
   "id": "0a1eb351",
   "metadata": {},
   "outputs": [],
   "source": [
    "def join_numbers_from_range(start, finish):\n",
    "    i = start\n",
    "    text = ''\n",
    "    while i <= finish:\n",
    "        text += str(i)\n",
    "        i = i + 1\n",
    "    return text "
   ]
  },
  {
   "cell_type": "code",
   "execution_count": 8,
   "id": "6886b0dd",
   "metadata": {},
   "outputs": [
    {
     "data": {
      "text/plain": [
       "'2345'"
      ]
     },
     "execution_count": 8,
     "metadata": {},
     "output_type": "execute_result"
    }
   ],
   "source": [
    "join_numbers_from_range(2, 5)"
   ]
  },
  {
   "cell_type": "markdown",
   "id": "9dd66995",
   "metadata": {},
   "source": [
    "### Задача 5 − «Обход строк»"
   ]
  },
  {
   "cell_type": "markdown",
   "id": "e1be53b9",
   "metadata": {},
   "source": [
    "Реализуйте функцию *my_substr()*, которая извлекает из строки подстроку указанной длины. Она принимает на вход два аргумента (строку и длину) и возвращает подстроку, начиная с первого символа.\n",
    "\n",
    "Эта задача доступна по [ссылке](https://ru.hexlet.io/courses/python-basics/lessons/iteration-over-string/exercise_unit) после регистрации на сайте."
   ]
  },
  {
   "cell_type": "code",
   "execution_count": 9,
   "id": "e0d10681",
   "metadata": {},
   "outputs": [],
   "source": [
    "def my_substr(text, length):\n",
    "    if len(text) >= length:\n",
    "      return text[:length]"
   ]
  },
  {
   "cell_type": "code",
   "execution_count": 10,
   "id": "95d4a773",
   "metadata": {},
   "outputs": [
    {
     "data": {
      "text/plain": [
       "'yrgh'"
      ]
     },
     "execution_count": 10,
     "metadata": {},
     "output_type": "execute_result"
    }
   ],
   "source": [
    "my_substr('yrghaaaa', 4)"
   ]
  },
  {
   "cell_type": "markdown",
   "id": "213256cf",
   "metadata": {},
   "source": [
    "### Задача 6 − «Условия внутри тела цикла» "
   ]
  },
  {
   "cell_type": "markdown",
   "id": "e9c6ae82",
   "metadata": {},
   "source": [
    "Реализуйте функцию *has_char()*. Она должна проверять, содержит ли строка указанную букву (вне зависимости от регистра). Функция принимает два параметра:\n",
    "* строка,\n",
    "* буква для поиска.\n",
    "\n",
    "И возвращает результат проверки – булево значение.\n",
    "\n",
    "*Эта задача доступна по [ссылке](https://ru.hexlet.io/courses/python-basics/lessons/conditions-inside-loops/exercise_unit) после регистрации на сайте.*"
   ]
  },
  {
   "cell_type": "code",
   "execution_count": 11,
   "id": "a3dcb7f5",
   "metadata": {},
   "outputs": [],
   "source": [
    "def is_contains_char(string, char):\n",
    "    \n",
    "    i = 0\n",
    "    string = string.lower()\n",
    "    char = char.lower()\n",
    "\n",
    "    while i < len(string):\n",
    "      if string[i] == char:      \n",
    "        return True\n",
    "      else: \n",
    "        i = i + 1\n",
    "\n",
    "    return False"
   ]
  },
  {
   "cell_type": "code",
   "execution_count": 12,
   "id": "2f8f8591",
   "metadata": {},
   "outputs": [
    {
     "data": {
      "text/plain": [
       "True"
      ]
     },
     "execution_count": 12,
     "metadata": {},
     "output_type": "execute_result"
    }
   ],
   "source": [
    "is_contains_char('data analysis', 'i')"
   ]
  },
  {
   "cell_type": "markdown",
   "id": "65a315e2",
   "metadata": {},
   "source": [
    "### Задача 7 − «Цикл *for*»"
   ]
  },
  {
   "cell_type": "markdown",
   "id": "ead50919",
   "metadata": {},
   "source": [
    "Реализуйте функцию *filter_string()*. Она принимает на вход строку и символ и возвращает новую строку, в которой удален переданный символ во всех его позициях. Если строка не содержит указанный символ, то она возвращается без изменений.\n",
    "\n",
    "Итоговая строка также не должна содержать начальные и концевые пробелы.\n",
    "\n",
    "*Эта задача доступна по [ссылке](https://ru.hexlet.io/courses/python-basics/lessons/for/exercise_unit) после регистрации на сайте.*"
   ]
  },
  {
   "cell_type": "code",
   "execution_count": 13,
   "id": "4a26dae0",
   "metadata": {},
   "outputs": [],
   "source": [
    "def filter_string(string, char):\n",
    "    \n",
    "    conclusion = ''\n",
    "\n",
    "    for symbol in string:\n",
    "        if symbol.lower() != char.lower():\n",
    "            conclusion += symbol\n",
    "\n",
    "    if conclusion[0] == ' ' and symbol[-1] == ' ':\n",
    "        conclusion = conclusion[1:-1]\n",
    "    elif conclusion[0] == ' ':\n",
    "        conclusion = conclusion[1:]\n",
    "    elif conclusion[-1] == ' ':\n",
    "        conclusion = conclusion[:-1]\n",
    "    \n",
    "    return conclusion"
   ]
  },
  {
   "cell_type": "code",
   "execution_count": 14,
   "id": "c547feaa",
   "metadata": {},
   "outputs": [
    {
     "data": {
      "text/plain": [
       "'data analst'"
      ]
     },
     "execution_count": 14,
     "metadata": {},
     "output_type": "execute_result"
    }
   ],
   "source": [
    "filter_string('data analyst', 'y')"
   ]
  },
  {
   "cell_type": "markdown",
   "id": "c88516bb",
   "metadata": {},
   "source": [
    "### Задача 8 − «Отладка»"
   ]
  },
  {
   "cell_type": "markdown",
   "id": "7547a564",
   "metadata": {},
   "source": [
    "Реализуйте функцию *is_palindrome()*, которая принимает на вход слово, определяет, является ли оно палиндромом, а затем возвращает логическое значение.\n",
    "\n",
    "*Эта задача доступна по [ссылке](https://ru.hexlet.io/courses/python-basics/lessons/debug/exercise_unit) после регистрации на сайте.*"
   ]
  },
  {
   "cell_type": "code",
   "execution_count": 15,
   "id": "2f2be8cd",
   "metadata": {},
   "outputs": [],
   "source": [
    "def is_palindrome(value):\n",
    "    \n",
    "    length = len(value)\n",
    "    value = value.lower().strip()\n",
    "\n",
    "    if length % 2 == 0: # четное число\n",
    "        split = int(length / 2) \n",
    "        value_one = value[:split]\n",
    "        value_two = value[split:]\n",
    "        value_two = value_two[::-1]\n",
    "        return (value_one == value_two)\n",
    "    else: \n",
    "        split = int(length // 2)\n",
    "        value_one = value[:split]\n",
    "        value_two = value[(split + 1):]\n",
    "        value_two = value_two[::-1]\n",
    "        return (value_one == value_two)"
   ]
  },
  {
   "cell_type": "code",
   "execution_count": 16,
   "id": "240529e2",
   "metadata": {},
   "outputs": [
    {
     "data": {
      "text/plain": [
       "True"
      ]
     },
     "execution_count": 16,
     "metadata": {},
     "output_type": "execute_result"
    }
   ],
   "source": [
    "is_palindrome('еле-еле')"
   ]
  },
  {
   "cell_type": "markdown",
   "id": "c4d49722",
   "metadata": {},
   "source": [
    "### Задача 9 − «Модули»"
   ]
  },
  {
   "cell_type": "markdown",
   "id": "bdc800c5",
   "metadata": {},
   "source": [
    "Реализуйте функцию *count_vowels()*, которая принимает строку, считает и возвращает количество гласных букв в ней.\n",
    "\n",
    "*Эта задача доступна по [ссылке](https://ru.hexlet.io/courses/python-basics/lessons/modules/exercise_unit) после регистрации на сайте.*"
   ]
  },
  {
   "cell_type": "code",
   "execution_count": 17,
   "id": "3c5c2e93",
   "metadata": {},
   "outputs": [],
   "source": [
    "def count_vowels(text):\n",
    "    \n",
    "    count = 0\n",
    "    text = text.lower()\n",
    "  \n",
    "    for symbol in text:\n",
    "        if symbol in ('a', 'e', 'i', 'o', 'u', 'y', 'а', 'о', 'у', 'ы', 'э', 'я', 'е', 'ё', 'ю', 'и'):\n",
    "            count += 1\n",
    "  \n",
    "    return count"
   ]
  },
  {
   "cell_type": "code",
   "execution_count": 18,
   "id": "0807b72b",
   "metadata": {},
   "outputs": [
    {
     "data": {
      "text/plain": [
       "3"
      ]
     },
     "execution_count": 18,
     "metadata": {},
     "output_type": "execute_result"
    }
   ],
   "source": [
    "count_vowels('Миру — мир')"
   ]
  },
  {
   "cell_type": "markdown",
   "id": "69fcac22",
   "metadata": {},
   "source": [
    "### Задача 10 − «Модули поглубже»"
   ]
  },
  {
   "cell_type": "markdown",
   "id": "08a8aeea",
   "metadata": {},
   "source": [
    "Директория *src* в файловом дереве содержит модуль *kit.py*. Изучите его.\n",
    "\n",
    "Реализуйте функцию *print_kit()* и вызовите в ней все функции, которые определены в модуле *kit.py*. Предварительно импортируйте их.\n",
    "\n",
    "**Уточнение**: поскольку директория *src* доступна для вызова непосредственно на платформе *Hexlet*, то в этой тетрадке написанная программа не может быть выполнена корректно, а потому не запускается.\n",
    "\n",
    "*Эта задача доступна по [ссылке](https://ru.hexlet.io/courses/python-basics/lessons/modules-in-depth/exercise_unit) после регистрации на сайте.*"
   ]
  },
  {
   "cell_type": "code",
   "execution_count": null,
   "id": "07c7933f",
   "metadata": {},
   "outputs": [],
   "source": [
    "from kit import say_bye, say_hello, show_language\n",
    "\n",
    "def print_kit():\n",
    "    say_hello(), show_language(), say_bye() "
   ]
  },
  {
   "cell_type": "markdown",
   "id": "ac17d63c",
   "metadata": {},
   "source": [
    "### Задача 11 − «Пакеты»"
   ]
  },
  {
   "cell_type": "markdown",
   "id": "1be264db",
   "metadata": {},
   "source": [
    "Дан пакет следующей структуры:\n",
    "\n",
    "1. $ tree package  \n",
    "2. package/  \n",
    "3. ├── \\_\\_init\\_\\_.py  \n",
    "4. ├── functions.py  \n",
    "5. └── names.py\n",
    "\n",
    "Добавьте в *\\_\\_init\\_\\_.py* константу *GREETING*, которая должна содержать результат применения функции *greet()* к константе *NAME*. И функция и константа импортируются из модулей пакета в блоке импортов модуля *\\_\\_init\\_\\_.py*.\n",
    "\n",
    "**Уточнение**: поскольку представленный выше пакет доступен для вызова непосредственно на платформе *Hexlet*, то в этой тетрадке написанная программа не может быть выполнена корректно, а потому не запускается.\n",
    "\n",
    "*Эта задача доступна по [ссылке](https://ru.hexlet.io/courses/python-basics/lessons/packages/exercise_unit) после регистрации на сайте.*"
   ]
  },
  {
   "cell_type": "code",
   "execution_count": null,
   "id": "122cbbb2",
   "metadata": {},
   "outputs": [],
   "source": [
    "from package.functions import greet\n",
    "from package.names import NAME\n",
    "\n",
    "GREETING = greet(NAME)"
   ]
  },
  {
   "cell_type": "markdown",
   "id": "a679189b",
   "metadata": {},
   "source": [
    "### Задача 12 − «Модуль *random*»"
   ]
  },
  {
   "cell_type": "markdown",
   "id": "7cabe699",
   "metadata": {},
   "source": [
    "Реализуйте функцию *choice_from_range()*, которая принимает строку-набор и возвращает случайный символ по индексу из ограниченного диапазона.\n",
    "\n",
    "Аргументы функции:\n",
    "* строка-набор,\n",
    "* начальный индекс диапазона, \n",
    "* конечный индекс диапазона.\n",
    "\n",
    "*Эта задача доступна по [ссылке](https://ru.hexlet.io/courses/python-basics/lessons/module-random/exercise_unit) после регистрации на сайте.*"
   ]
  },
  {
   "cell_type": "code",
   "execution_count": 20,
   "id": "752356fa",
   "metadata": {},
   "outputs": [],
   "source": [
    "import random\n",
    "\n",
    "def choice_from_range(text, first, last):\n",
    "    text = text[first:last]\n",
    "    return random.choice(text)"
   ]
  },
  {
   "cell_type": "code",
   "execution_count": 21,
   "id": "7ebf4f71",
   "metadata": {},
   "outputs": [
    {
     "data": {
      "text/plain": [
       "'т'"
      ]
     },
     "execution_count": 21,
     "metadata": {},
     "output_type": "execute_result"
    }
   ],
   "source": [
    "choice_from_range('Статистика и котики', 2, 10)"
   ]
  },
  {
   "cell_type": "markdown",
   "id": "d99fa6dd",
   "metadata": {},
   "source": [
    "### Задача 13 − «Кортежи»"
   ]
  },
  {
   "cell_type": "markdown",
   "id": "bb35a63b",
   "metadata": {},
   "source": [
    "Реализуйте функцию *sort_pair*, которая принимает пару (кортеж из двух значений) и возвращает пару, значения которой расположены строго в порядке возрастания.\n",
    "\n",
    "*Эта задача доступна по [ссылке](https://ru.hexlet.io/courses/python-basics/lessons/tuples/exercise_unit) после регистрации на сайте.*"
   ]
  },
  {
   "cell_type": "code",
   "execution_count": 22,
   "id": "29175f5b",
   "metadata": {},
   "outputs": [],
   "source": [
    "def sort_pair(tuple):\n",
    "\n",
    "    a, b = tuple\n",
    "    \n",
    "    if a > b:\n",
    "        return (b, a)\n",
    "    else:\n",
    "        return (a, b)"
   ]
  },
  {
   "cell_type": "code",
   "execution_count": 23,
   "id": "8b7eecbd",
   "metadata": {},
   "outputs": [
    {
     "data": {
      "text/plain": [
       "(20.5, 56)"
      ]
     },
     "execution_count": 23,
     "metadata": {},
     "output_type": "execute_result"
    }
   ],
   "source": [
    "new_tuple = (56, 20.5)\n",
    "\n",
    "sort_pair(new_tuple)"
   ]
  }
 ],
 "metadata": {
  "kernelspec": {
   "display_name": "Python 3 (ipykernel)",
   "language": "python",
   "name": "python3"
  },
  "language_info": {
   "codemirror_mode": {
    "name": "ipython",
    "version": 3
   },
   "file_extension": ".py",
   "mimetype": "text/x-python",
   "name": "python",
   "nbconvert_exporter": "python",
   "pygments_lexer": "ipython3",
   "version": "3.9.13"
  },
  "toc": {
   "base_numbering": 1,
   "nav_menu": {},
   "number_sections": true,
   "sideBar": true,
   "skip_h1_title": true,
   "title_cell": "Содержание",
   "title_sidebar": "С",
   "toc_cell": true,
   "toc_position": {
    "height": "calc(100% - 180px)",
    "left": "10px",
    "top": "150px",
    "width": "271.594px"
   },
   "toc_section_display": true,
   "toc_window_display": false
  }
 },
 "nbformat": 4,
 "nbformat_minor": 5
}
